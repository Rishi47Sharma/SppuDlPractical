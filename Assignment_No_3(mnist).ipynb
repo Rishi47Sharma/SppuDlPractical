{
 "cells": [
  {
   "cell_type": "code",
   "execution_count": 2,
   "id": "27c96b8f",
   "metadata": {},
   "outputs": [],
   "source": [
    "import tensorflow as tf\n",
    "from tensorflow import keras\n",
    "from tensorflow.keras.preprocessing.image import ImageDataGenerator\n",
    "from keras.utils import to_categorical\n",
    "import matplotlib.pyplot as plt\n",
    "import numpy as np"
   ]
  },
  {
   "cell_type": "code",
   "execution_count": 3,
   "id": "1678b248",
   "metadata": {},
   "outputs": [],
   "source": [
    "test_data='D://LP-4-DL-DataSet//mnist-jpg//mnist-jpg//test'\n",
    "train_data='D://LP-4-DL-DataSet//mnist-jpg//mnist-jpg//train'"
   ]
  },
  {
   "cell_type": "code",
   "execution_count": 5,
   "id": "daa42e1a",
   "metadata": {},
   "outputs": [
    {
     "name": "stdout",
     "output_type": "stream",
     "text": [
      "Found 10000 images belonging to 10 classes.\n",
      "Found 60000 images belonging to 10 classes.\n"
     ]
    }
   ],
   "source": [
    "load = ImageDataGenerator(rescale=1.0/255)\n",
    "test_generator=load.flow_from_directory(\n",
    " test_data,\n",
    "    target_size=(28,28),\n",
    "    batch_size=2000,\n",
    "    shuffle=True,\n",
    "    class_mode='categorical',\n",
    "    color_mode='grayscale'\n",
    "    \n",
    ")\n",
    "\n",
    "train_generator=load.flow_from_directory(\n",
    "    train_data,\n",
    "     target_size=(28,28),\n",
    "    class_mode='categorical',\n",
    "    batch_size=10000,\n",
    "    shuffle=True,\n",
    "     color_mode='grayscale'\n",
    "    \n",
    "    \n",
    "    \n",
    ")"
   ]
  },
  {
   "cell_type": "code",
   "execution_count": 7,
   "id": "9eb274ce",
   "metadata": {},
   "outputs": [],
   "source": [
    "x_train,y_train=train_generator[0]\n",
    "x_test,y_test=test_generator[0]"
   ]
  },
  {
   "cell_type": "code",
   "execution_count": 24,
   "id": "a26480ab",
   "metadata": {},
   "outputs": [
    {
     "name": "stdout",
     "output_type": "stream",
     "text": [
      "Model: \"sequential_5\"\n",
      "_________________________________________________________________\n",
      " Layer (type)                Output Shape              Param #   \n",
      "=================================================================\n",
      " conv2d_5 (Conv2D)           (None, 26, 26, 32)        320       \n",
      "                                                                 \n",
      " max_pooling2d_4 (MaxPoolin  (None, 13, 13, 32)        0         \n",
      " g2D)                                                            \n",
      "                                                                 \n",
      " flatten_4 (Flatten)         (None, 5408)              0         \n",
      "                                                                 \n",
      " dense_7 (Dense)             (None, 64)                346176    \n",
      "                                                                 \n",
      " dropout_3 (Dropout)         (None, 64)                0         \n",
      "                                                                 \n",
      " dense_8 (Dense)             (None, 10)                650       \n",
      "                                                                 \n",
      "=================================================================\n",
      "Total params: 347146 (1.32 MB)\n",
      "Trainable params: 347146 (1.32 MB)\n",
      "Non-trainable params: 0 (0.00 Byte)\n",
      "_________________________________________________________________\n"
     ]
    }
   ],
   "source": [
    "model = keras.Sequential([\n",
    "    keras.layers.Conv2D(32,(3,3), activation='relu',input_shape=(28,28,1)),\n",
    "    keras.layers.MaxPool2D(pool_size=(2,2)),\n",
    "    keras.layers.Flatten(),\n",
    "    keras.layers.Dense(64,activation='relu'),\n",
    "    keras.layers.Dropout(0.2),\n",
    "    keras.layers.Dense(10,activation='softmax')\n",
    "])\n",
    "\n",
    "model.summary()"
   ]
  },
  {
   "cell_type": "code",
   "execution_count": 25,
   "id": "3dac68f7",
   "metadata": {},
   "outputs": [
    {
     "name": "stdout",
     "output_type": "stream",
     "text": [
      "Epoch 1/10\n",
      "313/313 [==============================] - 3s 8ms/step - loss: 0.5841 - accuracy: 0.8231 - val_loss: 0.2387 - val_accuracy: 0.9365\n",
      "Epoch 2/10\n",
      "313/313 [==============================] - 2s 7ms/step - loss: 0.2582 - accuracy: 0.9223 - val_loss: 0.1634 - val_accuracy: 0.9540\n",
      "Epoch 3/10\n",
      "313/313 [==============================] - 2s 7ms/step - loss: 0.1770 - accuracy: 0.9458 - val_loss: 0.1301 - val_accuracy: 0.9630\n",
      "Epoch 4/10\n",
      "313/313 [==============================] - 2s 7ms/step - loss: 0.1276 - accuracy: 0.9601 - val_loss: 0.1172 - val_accuracy: 0.9675\n",
      "Epoch 5/10\n",
      "313/313 [==============================] - 2s 7ms/step - loss: 0.0992 - accuracy: 0.9708 - val_loss: 0.1032 - val_accuracy: 0.9745\n",
      "Epoch 6/10\n",
      "313/313 [==============================] - 2s 7ms/step - loss: 0.0829 - accuracy: 0.9720 - val_loss: 0.0981 - val_accuracy: 0.9710\n",
      "Epoch 7/10\n",
      "313/313 [==============================] - 2s 7ms/step - loss: 0.0679 - accuracy: 0.9798 - val_loss: 0.1003 - val_accuracy: 0.9730\n",
      "Epoch 8/10\n",
      "313/313 [==============================] - 2s 8ms/step - loss: 0.0586 - accuracy: 0.9799 - val_loss: 0.1034 - val_accuracy: 0.9720\n",
      "Epoch 9/10\n",
      "313/313 [==============================] - 2s 7ms/step - loss: 0.0478 - accuracy: 0.9852 - val_loss: 0.0988 - val_accuracy: 0.9745\n",
      "Epoch 10/10\n",
      "313/313 [==============================] - 2s 7ms/step - loss: 0.0443 - accuracy: 0.9866 - val_loss: 0.1014 - val_accuracy: 0.9730\n"
     ]
    }
   ],
   "source": [
    "model.compile(optimizer='adam' ,loss='categorical_crossentropy',metrics=['accuracy'])\n",
    "history=model.fit(x_train , y_train , epochs=10,validation_data=(x_test,y_test))"
   ]
  },
  {
   "cell_type": "code",
   "execution_count": 26,
   "id": "56b1e5a6",
   "metadata": {},
   "outputs": [
    {
     "name": "stdout",
     "output_type": "stream",
     "text": [
      "63/63 [==============================] - 0s 2ms/step - loss: 0.1014 - accuracy: 0.9730\n"
     ]
    }
   ],
   "source": [
    "loss ,accuracy =  model.evaluate(x_test,y_test)"
   ]
  },
  {
   "cell_type": "code",
   "execution_count": 27,
   "id": "0a5337ea",
   "metadata": {},
   "outputs": [
    {
     "name": "stdout",
     "output_type": "stream",
     "text": [
      "63/63 [==============================] - 0s 2ms/step\n"
     ]
    }
   ],
   "source": [
    "predicted_value=model.predict(x_test)"
   ]
  },
  {
   "cell_type": "code",
   "execution_count": 31,
   "id": "46545ece",
   "metadata": {},
   "outputs": [
    {
     "name": "stdout",
     "output_type": "stream",
     "text": [
      "Actual 7\n",
      "predicted 7\n"
     ]
    },
    {
     "data": {
      "image/png": "[encoded data removed]",
      "text/plain": [
       "<Figure size 640x480 with 1 Axes>"
      ]
     },
     "metadata": {},
     "output_type": "display_data"
    }
   ],
   "source": [
    "n=24\n",
    "plt.imshow(x_test[n])\n",
    "print('Actual',np.argmax(y_test[n]))\n",
    "print('predicted',np.argmax(predicted_value[n]))"
   ]
  },
  {
   "cell_type": "code",
   "execution_count": null,
   "id": "58255a7a",
   "metadata": {},
   "outputs": [],
   "source": []
  }
 ],
 "metadata": {
  "kernelspec": {
   "display_name": "Python 3 (ipykernel)",
   "language": "python",
   "name": "python3"
  },
  "language_info": {
   "codemirror_mode": {
    "name": "ipython",
    "version": 3
   },
   "file_extension": ".py",
   "mimetype": "text/x-python",
   "name": "python",
   "nbconvert_exporter": "python",
   "pygments_lexer": "ipython3",
   "version": "3.10.9"
  }
 },
 "nbformat": 4,
 "nbformat_minor": 5
}
