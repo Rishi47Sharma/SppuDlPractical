{
 "cells": [
  {
   "cell_type": "code",
   "execution_count": 34,
   "id": "d186cc86",
   "metadata": {},
   "outputs": [],
   "source": [
    "import tensorflow as tf\n",
    "from tensorflow import keras\n",
    "from tensorflow.keras.preprocessing.image import ImageDataGenerator\n",
    "import matplotlib.pyplot as plt\n",
    "import numpy as np\n",
    "from keras.utils import to_categorical"
   ]
  },
  {
   "cell_type": "code",
   "execution_count": 35,
   "id": "e87d3d1c",
   "metadata": {},
   "outputs": [],
   "source": [
    "test_data='D:/LP-4-DL-DataSet/cifar-10-img/cifar-10-img/test'\n",
    "train_data='D:/LP-4-DL-DataSet/cifar-10-img/cifar-10-img/train'\n"
   ]
  },
  {
   "cell_type": "code",
   "execution_count": 43,
   "id": "e526cdef",
   "metadata": {},
   "outputs": [
    {
     "name": "stdout",
     "output_type": "stream",
     "text": [
      "Found 9921 images belonging to 10 classes.\n",
      "Found 40079 images belonging to 10 classes.\n"
     ]
    }
   ],
   "source": [
    "test_datagen=ImageDataGenerator(rescale=1.0/255)\n",
    "train_datagen=ImageDataGenerator(rescale=1.0/255)\n",
    "\n",
    "test_generator=test_datagen.flow_from_directory(\n",
    "    test_data,\n",
    "    target_size=(32,32),\n",
    "    batch_size=2000,\n",
    "    class_mode='sparse',\n",
    "    shuffle='True'\n",
    "    \n",
    ")\n",
    "train_generator=test_datagen.flow_from_directory(\n",
    "    train_data,\n",
    "    target_size=(32,32),\n",
    "    batch_size=10000,\n",
    "    class_mode='sparse',\n",
    "    shuffle='True'\n",
    ")"
   ]
  },
  {
   "cell_type": "code",
   "execution_count": 49,
   "id": "5c7922da",
   "metadata": {},
   "outputs": [],
   "source": [
    "x_train ,y_train=train_generator[0]\n",
    "x_test,y_test=test_generator[0]"
   ]
  },
  {
   "cell_type": "code",
   "execution_count": 50,
   "id": "3ae13258",
   "metadata": {},
   "outputs": [],
   "source": [
    "y_train = y_train.flatten()\n",
    "y_test = y_test.flatten()"
   ]
  },
  {
   "cell_type": "code",
   "execution_count": 51,
   "id": "38d00fe0",
   "metadata": {},
   "outputs": [
    {
     "name": "stdout",
     "output_type": "stream",
     "text": [
      "Model: \"sequential_7\"\n",
      "_________________________________________________________________\n",
      " Layer (type)                Output Shape              Param #   \n",
      "=================================================================\n",
      " conv2d_8 (Conv2D)           (None, 32, 32, 28)        784       \n",
      "                                                                 \n",
      " max_pooling2d_8 (MaxPoolin  (None, 16, 16, 28)        0         \n",
      " g2D)                                                            \n",
      "                                                                 \n",
      " flatten_14 (Flatten)        (None, 7168)              0         \n",
      "                                                                 \n",
      " dense_12 (Dense)            (None, 300)               2150700   \n",
      "                                                                 \n",
      " dropout_6 (Dropout)         (None, 300)               0         \n",
      "                                                                 \n",
      " dense_13 (Dense)            (None, 10)                3010      \n",
      "                                                                 \n",
      "=================================================================\n",
      "Total params: 2154494 (8.22 MB)\n",
      "Trainable params: 2154494 (8.22 MB)\n",
      "Non-trainable params: 0 (0.00 Byte)\n",
      "_________________________________________________________________\n"
     ]
    }
   ],
   "source": [
    "model =keras.Sequential([\n",
    "      keras.layers.Conv2D(28,(3,3), padding='same', input_shape=(32,32,3)),\n",
    "    keras.layers.MaxPooling2D(pool_size=(2,2)),\n",
    "    keras.layers.Flatten(),\n",
    "    keras.layers.Dense(300,activation='relu'),\n",
    "    keras.layers.Dropout(0.2),\n",
    "    keras.layers.Dense(10,activation='Softmax')\n",
    "]\n",
    ")\n",
    "\n",
    "model.summary()"
   ]
  },
  {
   "cell_type": "code",
   "execution_count": 53,
   "id": "6e7e2b69",
   "metadata": {},
   "outputs": [
    {
     "name": "stdout",
     "output_type": "stream",
     "text": [
      "Epoch 1/5\n",
      "313/313 [==============================] - 4s 13ms/step - loss: 2.0362 - accuracy: 0.2620 - val_loss: 1.9997 - val_accuracy: 0.2860\n",
      "Epoch 2/5\n",
      "313/313 [==============================] - 4s 13ms/step - loss: 1.8433 - accuracy: 0.3491 - val_loss: 1.8249 - val_accuracy: 0.3680\n",
      "Epoch 3/5\n",
      "313/313 [==============================] - 4s 13ms/step - loss: 1.7532 - accuracy: 0.3856 - val_loss: 1.7490 - val_accuracy: 0.3780\n",
      "Epoch 4/5\n",
      "313/313 [==============================] - 4s 14ms/step - loss: 1.6852 - accuracy: 0.4068 - val_loss: 1.6925 - val_accuracy: 0.3960\n",
      "Epoch 5/5\n",
      "313/313 [==============================] - 4s 13ms/step - loss: 1.6326 - accuracy: 0.4288 - val_loss: 1.6645 - val_accuracy: 0.4115\n"
     ]
    }
   ],
   "source": [
    "model.compile(optimizer='sgd',loss='sparse_categorical_crossentropy',metrics=['accuracy'])\n",
    "history=model.fit(x_train, y_train, epochs=5, validation_data=(x_test, y_test))"
   ]
  },
  {
   "cell_type": "code",
   "execution_count": 55,
   "id": "f90c4ed6",
   "metadata": {},
   "outputs": [
    {
     "name": "stdout",
     "output_type": "stream",
     "text": [
      "63/63 [==============================] - 0s 4ms/step - loss: 1.6645 - accuracy: 0.4115\n",
      "loss:  1.6644564867019653\n",
      "Accuracy: 0.4115000069141388\n"
     ]
    }
   ],
   "source": [
    "loss,accuracy=model.evaluate(x_test,y_test)\n",
    "print(\"loss: \",loss)\n",
    "print(\"Accuracy:\",accuracy)"
   ]
  },
  {
   "cell_type": "code",
   "execution_count": 58,
   "id": "ba52704d",
   "metadata": {},
   "outputs": [
    {
     "name": "stdout",
     "output_type": "stream",
     "text": [
      "63/63 [==============================] - 0s 4ms/step\n",
      "[[0. 0. 0. ... 0. 0. 0.]\n",
      " [0. 0. 0. ... 0. 0. 0.]\n",
      " [0. 0. 0. ... 0. 1. 0.]\n",
      " ...\n",
      " [0. 0. 0. ... 1. 0. 0.]\n",
      " [0. 0. 0. ... 0. 0. 0.]\n",
      " [0. 0. 1. ... 0. 0. 0.]]\n"
     ]
    }
   ],
   "source": [
    "predict_value=model.predict(x_test)\n",
    "y =to_categorical(y_test)\n"
   ]
  },
  {
   "cell_type": "code",
   "execution_count": 76,
   "id": "99b77b62",
   "metadata": {},
   "outputs": [
    {
     "name": "stdout",
     "output_type": "stream",
     "text": [
      "['airplane', 'automobile', 'bird', 'cat', 'deer', 'dog', 'frog', 'horse', 'ship', 'truck']\n"
     ]
    }
   ],
   "source": [
    "labels = list(test_generator.class_indices.keys())\n",
    "print(labels)"
   ]
  },
  {
   "cell_type": "code",
   "execution_count": 77,
   "id": "b66cfc22",
   "metadata": {},
   "outputs": [
    {
     "name": "stdout",
     "output_type": "stream",
     "text": [
      "Actual :  automobile\n",
      "Predicted:  airplane\n"
     ]
    },
    {
     "data": {
      "image/png": "[encoded data removed]",
      "text/plain": [
       "<Figure size 640x480 with 1 Axes>"
      ]
     },
     "metadata": {},
     "output_type": "display_data"
    }
   ],
   "source": [
    "n=24\n",
    "plt.imshow(x_test[n])\n",
    "print(\"Actual : \",labels[np.argmax(y[n])])\n",
    "print(\"Predicted: \", labels[np.argmax(predict_value[n])])"
   ]
  },
  {
   "cell_type": "code",
   "execution_count": 73,
   "id": "79ba8c35",
   "metadata": {},
   "outputs": [
    {
     "data": {
      "text/plain": [
       "<matplotlib.legend.Legend at 0x1c71102c2e0>"
      ]
     },
     "execution_count": 73,
     "metadata": {},
     "output_type": "execute_result"
    },
    {
     "data": {
      "image/png": "[encoded data removed]",
      "text/plain": [
       "<Figure size 640x480 with 1 Axes>"
      ]
     },
     "metadata": {},
     "output_type": "display_data"
    }
   ],
   "source": [
    "plt.figure()\n",
    "plt.subplot(1,2,1)\n",
    "plt.plot(history.history['accuracy'])\n",
    "plt.plot(history.history['val_accuracy'])\n",
    "plt.title('Accuracy')\n",
    "plt.xlabel('epoach')\n",
    "plt.ylabel('Acuuracy')\n",
    "plt.legend(['accuracy','val_accuracy'])"
   ]
  }
 ],
 "metadata": {
  "kernelspec": {
   "display_name": "Python 3 (ipykernel)",
   "language": "python",
   "name": "python3"
  },
  "language_info": {
   "codemirror_mode": {
    "name": "ipython",
    "version": 3
   },
   "file_extension": ".py",
   "mimetype": "text/x-python",
   "name": "python",
   "nbconvert_exporter": "python",
   "pygments_lexer": "ipython3",
   "version": "3.10.9"
  }
 },
 "nbformat": 4,
 "nbformat_minor": 5
}
