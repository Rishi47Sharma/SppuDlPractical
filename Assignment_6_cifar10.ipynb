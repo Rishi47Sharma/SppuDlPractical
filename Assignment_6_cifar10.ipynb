{
 "cells": [
  {
   "cell_type": "code",
   "execution_count": 31,
   "id": "41e6c53e",
   "metadata": {},
   "outputs": [],
   "source": [
    "import tensorflow as tf\n",
    "from tensorflow import keras\n",
    "from tensorflow.keras.applications import VGG16\n",
    "import numpy as np \n",
    "import matplotlib.pyplot as plt\n",
    "from tensorflow.keras.preprocessing.image import ImageDataGenerator"
   ]
  },
  {
   "cell_type": "code",
   "execution_count": 32,
   "id": "f4c37cc3",
   "metadata": {},
   "outputs": [
    {
     "name": "stdout",
     "output_type": "stream",
     "text": [
      "Found 40079 images belonging to 10 classes.\n",
      "Found 9921 images belonging to 10 classes.\n"
     ]
    }
   ],
   "source": [
    "train_dir = \"D://LP-4-DL-DataSet//cifar-10-img//cifar-10-img//train\"\n",
    "test_dir = \"D://LP-4-DL-DataSet//cifar-10-img//cifar-10-img/test\"\n",
    "\n",
    "train_datagen = ImageDataGenerator(\n",
    "    rescale=1.0 / 255,\n",
    ")\n",
    "\n",
    "test_datagen = ImageDataGenerator(\n",
    "    rescale=1.0 / 255,\n",
    ")\n",
    "\n",
    "# here batch_size is the number of images in each batch\n",
    "train_batch_size = 5000\n",
    "train_generator = train_datagen.flow_from_directory(\n",
    "    train_dir,\n",
    "    target_size=(32, 32),\n",
    "    batch_size=train_batch_size,\n",
    "    class_mode='categorical'\n",
    ")\n",
    "test_batch_size = 1000\n",
    "test_generator = test_datagen.flow_from_directory(\n",
    "    test_dir,\n",
    "    target_size=(32, 32),\n",
    "    batch_size=test_batch_size,\n",
    "    class_mode='categorical'\n",
    ")"
   ]
  },
  {
   "cell_type": "code",
   "execution_count": 33,
   "id": "2f6f95b3",
   "metadata": {},
   "outputs": [],
   "source": [
    "x_train,y_train=train_generator[0]\n",
    "x_test,y_test=test_generator[0]"
   ]
  },
  {
   "cell_type": "code",
   "execution_count": 34,
   "id": "edf2688b",
   "metadata": {},
   "outputs": [],
   "source": [
    "\n",
    "weight_path=\"D://LP-4-DL-DataSet//vgg16_weights_tf_dim_ordering_tf_kernels_notop.h5\"\n",
    "pretrained_model=VGG16(include_top=False,weights=weight_path ,input_shape=(32,32,3))"
   ]
  },
  {
   "cell_type": "code",
   "execution_count": 35,
   "id": "1b157c7c",
   "metadata": {},
   "outputs": [],
   "source": [
    "for i in pretrained_model.layers:\n",
    "    i.trainable=False"
   ]
  },
  {
   "cell_type": "code",
   "execution_count": 36,
   "id": "50822744",
   "metadata": {},
   "outputs": [],
   "source": [
    "x=keras.layers.Flatten()(pretrained_model.output)\n",
    "x=keras.layers.Dense(256,activation='relu')(x)\n",
    "x=keras.layers.Dropout(0.2)(x)\n",
    "x=keras.layers.Dense(256,activation='relu')(x)\n",
    "x=keras.layers.Dropout(0.2)(x)\n",
    "predict=keras.layers.Dense(10,activation='softmax')(x)\n",
    "\n"
   ]
  },
  {
   "cell_type": "code",
   "execution_count": 37,
   "id": "969f5661",
   "metadata": {},
   "outputs": [],
   "source": [
    "model =keras.Model(inputs=pretrained_model.input,outputs=predict)"
   ]
  },
  {
   "cell_type": "code",
   "execution_count": 38,
   "id": "f092d8c1",
   "metadata": {},
   "outputs": [
    {
     "name": "stdout",
     "output_type": "stream",
     "text": [
      "Epoch 1/10\n",
      "79/79 [==============================] - 9s 106ms/step - loss: 1.8987 - accuracy: 0.3110 - val_loss: 1.5399 - val_accuracy: 0.4720\n",
      "Epoch 2/10\n",
      "79/79 [==============================] - 8s 107ms/step - loss: 1.5312 - accuracy: 0.4582 - val_loss: 1.4359 - val_accuracy: 0.5140\n",
      "Epoch 3/10\n",
      "79/79 [==============================] - 8s 102ms/step - loss: 1.3873 - accuracy: 0.5040 - val_loss: 1.3273 - val_accuracy: 0.5460\n",
      "Epoch 4/10\n",
      "79/79 [==============================] - 8s 107ms/step - loss: 1.2982 - accuracy: 0.5376 - val_loss: 1.2883 - val_accuracy: 0.5540\n",
      "Epoch 5/10\n",
      "79/79 [==============================] - 8s 106ms/step - loss: 1.2270 - accuracy: 0.5572 - val_loss: 1.2939 - val_accuracy: 0.5500\n",
      "Epoch 6/10\n",
      "79/79 [==============================] - 8s 107ms/step - loss: 1.1646 - accuracy: 0.5852 - val_loss: 1.2754 - val_accuracy: 0.5560\n",
      "Epoch 7/10\n",
      "79/79 [==============================] - 8s 102ms/step - loss: 1.1005 - accuracy: 0.6168 - val_loss: 1.2560 - val_accuracy: 0.5630\n",
      "Epoch 8/10\n",
      "79/79 [==============================] - 8s 107ms/step - loss: 1.0563 - accuracy: 0.6236 - val_loss: 1.2575 - val_accuracy: 0.5670\n",
      "Epoch 9/10\n",
      "79/79 [==============================] - 8s 103ms/step - loss: 0.9970 - accuracy: 0.6408 - val_loss: 1.2893 - val_accuracy: 0.5590\n",
      "Epoch 10/10\n",
      "79/79 [==============================] - 9s 110ms/step - loss: 0.9629 - accuracy: 0.6596 - val_loss: 1.3062 - val_accuracy: 0.5710\n"
     ]
    },
    {
     "data": {
      "text/plain": [
       "<keras.src.callbacks.History at 0x2104ea99ba0>"
      ]
     },
     "execution_count": 38,
     "metadata": {},
     "output_type": "execute_result"
    }
   ],
   "source": [
    "model.compile( optimizer='adam',loss='categorical_crossentropy',metrics=['accuracy'])\n",
    "model.fit(x_train,y_train,  epochs=10 ,batch_size=64 , validation_data=(x_test,y_test))"
   ]
  },
  {
   "cell_type": "code",
   "execution_count": 39,
   "id": "a745d6a0",
   "metadata": {},
   "outputs": [],
   "source": [
    "weight_path=\"D://LP-4-DL-DataSet//vgg16_weights_tf_dim_ordering_tf_kernels_notop.h5\"\n",
    "pretrained_model=VGG16(include_top=False,weights=weight_path,input_shape=(32,32,3))"
   ]
  },
  {
   "cell_type": "code",
   "execution_count": 40,
   "id": "0d76465f",
   "metadata": {},
   "outputs": [],
   "source": [
    "for i in pretrained_model.layers:\n",
    "    i.trainable=False"
   ]
  },
  {
   "cell_type": "code",
   "execution_count": 41,
   "id": "276937d4",
   "metadata": {},
   "outputs": [],
   "source": [
    "for i in pretrained_model.layers[len(pretrained_model.layers)-4:]:\n",
    "    i.trainable=True"
   ]
  },
  {
   "cell_type": "code",
   "execution_count": 47,
   "id": "294386e6",
   "metadata": {},
   "outputs": [],
   "source": [
    "x=keras.layers.Flatten()(pretrained_model.output)\n",
    "x=keras.layers.Dense(128,activation='relu')(x)\n",
    "x=keras.layers.Dropout(0.2)(x)\n",
    "x=keras.layers.Dense(256,activation='relu')(x)\n",
    "x=keras.layers.Dropout(0.2)(x)\n",
    "predict=keras.layers.Dense(10,activation='softmax')(x)\n"
   ]
  },
  {
   "cell_type": "code",
   "execution_count": 48,
   "id": "e09c438e",
   "metadata": {},
   "outputs": [],
   "source": [
    "model = keras.Model(inputs=pretrained_model.input,outputs=predict)"
   ]
  },
  {
   "cell_type": "code",
   "execution_count": 51,
   "id": "e1898842",
   "metadata": {},
   "outputs": [],
   "source": [
    "model.compile( optimizer='adam',loss='categorical_crossentropy' ,metrics=['accuracy'])"
   ]
  },
  {
   "cell_type": "code",
   "execution_count": 52,
   "id": "b49f78ed",
   "metadata": {},
   "outputs": [
    {
     "name": "stdout",
     "output_type": "stream",
     "text": [
      "Epoch 1/10\n",
      "157/157 [==============================] - 43s 266ms/step - loss: 1.8564 - accuracy: 0.3086 - val_loss: 1.4315 - val_accuracy: 0.4650\n",
      "Epoch 2/10\n",
      "157/157 [==============================] - 45s 288ms/step - loss: 1.3206 - accuracy: 0.5338 - val_loss: 1.4594 - val_accuracy: 0.5300\n",
      "Epoch 3/10\n",
      "157/157 [==============================] - 45s 287ms/step - loss: 1.1133 - accuracy: 0.6248 - val_loss: 1.1175 - val_accuracy: 0.6380\n",
      "Epoch 4/10\n",
      "157/157 [==============================] - 42s 271ms/step - loss: 0.9300 - accuracy: 0.6924 - val_loss: 1.1291 - val_accuracy: 0.6340\n",
      "Epoch 5/10\n",
      "157/157 [==============================] - 42s 266ms/step - loss: 0.8284 - accuracy: 0.7174 - val_loss: 1.1173 - val_accuracy: 0.6590\n",
      "Epoch 6/10\n",
      "157/157 [==============================] - 42s 269ms/step - loss: 0.6749 - accuracy: 0.7724 - val_loss: 1.1493 - val_accuracy: 0.6550\n",
      "Epoch 7/10\n",
      "157/157 [==============================] - 42s 267ms/step - loss: 0.6284 - accuracy: 0.7876 - val_loss: 1.1473 - val_accuracy: 0.6540\n",
      "Epoch 8/10\n",
      "157/157 [==============================] - 42s 266ms/step - loss: 0.5275 - accuracy: 0.8216 - val_loss: 1.3380 - val_accuracy: 0.6330\n",
      "Epoch 9/10\n",
      "157/157 [==============================] - 41s 263ms/step - loss: 0.4887 - accuracy: 0.8390 - val_loss: 1.5288 - val_accuracy: 0.6200\n",
      "Epoch 10/10\n",
      "157/157 [==============================] - 43s 272ms/step - loss: 0.4235 - accuracy: 0.8596 - val_loss: 1.3343 - val_accuracy: 0.6560\n"
     ]
    },
    {
     "data": {
      "text/plain": [
       "<keras.src.callbacks.History at 0x210413174f0>"
      ]
     },
     "execution_count": 52,
     "metadata": {},
     "output_type": "execute_result"
    }
   ],
   "source": [
    "model.fit(x_train,y_train ,validation_data=(x_test,y_test),epochs=10)"
   ]
  },
  {
   "cell_type": "code",
   "execution_count": 53,
   "id": "eb61593a",
   "metadata": {},
   "outputs": [],
   "source": [
    "labels =list(test_generator.class_indices.keys())"
   ]
  },
  {
   "cell_type": "code",
   "execution_count": 54,
   "id": "3fdf8445",
   "metadata": {},
   "outputs": [
    {
     "name": "stdout",
     "output_type": "stream",
     "text": [
      "['airplane', 'automobile', 'bird', 'cat', 'deer', 'dog', 'frog', 'horse', 'ship', 'truck']\n"
     ]
    }
   ],
   "source": [
    "print(labels)"
   ]
  },
  {
   "cell_type": "code",
   "execution_count": 55,
   "id": "f3e42afa",
   "metadata": {},
   "outputs": [
    {
     "name": "stdout",
     "output_type": "stream",
     "text": [
      "32/32 [==============================] - 2s 52ms/step\n"
     ]
    }
   ],
   "source": [
    "predicted_values=model.predict(x_test)"
   ]
  },
  {
   "cell_type": "code",
   "execution_count": 60,
   "id": "93651f91",
   "metadata": {},
   "outputs": [
    {
     "name": "stdout",
     "output_type": "stream",
     "text": [
      "actual:  automobile\n",
      "predicted:  automobile\n"
     ]
    },
    {
     "data": {
      "image/png": "[encoded data removed]",
      "text/plain": [
       "<Figure size 640x480 with 1 Axes>"
      ]
     },
     "metadata": {},
     "output_type": "display_data"
    }
   ],
   "source": [
    "n=250\n",
    "plt.imshow(x_test[n])\n",
    "print('actual: ', labels[np.argmax(y_test[n])])\n",
    "print('predicted: ', labels[np.argmax(predicted_values[n])])"
   ]
  }
 ],
 "metadata": {
  "kernelspec": {
   "display_name": "Python 3 (ipykernel)",
   "language": "python",
   "name": "python3"
  },
  "language_info": {
   "codemirror_mode": {
    "name": "ipython",
    "version": 3
   },
   "file_extension": ".py",
   "mimetype": "text/x-python",
   "name": "python",
   "nbconvert_exporter": "python",
   "pygments_lexer": "ipython3",
   "version": "3.10.9"
  }
 },
 "nbformat": 4,
 "nbformat_minor": 5
}
